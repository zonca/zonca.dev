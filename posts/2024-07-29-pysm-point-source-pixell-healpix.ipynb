{
 "cells": [
  {
   "cell_type": "raw",
   "id": "2622d571-d984-44f7-ac27-6ffb7fa61ee2",
   "metadata": {
    "vscode": {
     "languageId": "raw"
    }
   },
   "source": [
    "---\n",
    "date: 2024-07-29\n",
    "categories:\n",
    "  - cosmology\n",
    "  - pysm\n",
    "---"
   ]
  },
  {
   "cell_type": "markdown",
   "id": "f229c7d7-453a-4810-bdb2-2c90b87b7bf4",
   "metadata": {},
   "source": [
    "# Generate point source maps with pixell and convert to HEALPix\n",
    "\n",
    "Testing the pixell `sim_objects` functionality to create maps of point sources pre-smoothed with a gaussian beam.\n",
    "The purpose is to include this functionality in PySM to be able to generate on the fly maps of source starting from a catalog.\n",
    "\n",
    "Compared to the [previous notebook](./2024-05-02-pysm-point-source-pixell.ipynb), here I also use `reproject` to convert the map to HEALPix, plot the result and check the flux in HEALPix also agrees with the input."
   ]
  },
  {
   "cell_type": "code",
   "execution_count": 1,
   "id": "6bc32901-4ebd-49d0-9b3d-788648643510",
   "metadata": {
    "tags": []
   },
   "outputs": [],
   "source": [
    "from pixell import enmap, utils, resample, curvedsky as cs, reproject, pointsrcs\n",
    "import numpy as np\n",
    "import healpy as hp"
   ]
  },
  {
   "cell_type": "code",
   "execution_count": 2,
   "id": "455c650f-5f4e-4cff-b1b1-84310cc2e2ba",
   "metadata": {
    "tags": []
   },
   "outputs": [],
   "source": [
    "fwhm = 5 * utils.degree"
   ]
  },
  {
   "cell_type": "code",
   "execution_count": 3,
   "id": "a8ce7814-70d2-427d-b319-b692f2519ac3",
   "metadata": {
    "tags": []
   },
   "outputs": [],
   "source": [
    "shape, wcs = enmap.fullsky_geometry(res=fwhm / 3, proj=\"car\")"
   ]
  },
  {
   "cell_type": "code",
   "execution_count": 4,
   "id": "f984cc3e-441e-491a-a6d3-d9b1d6d26af2",
   "metadata": {
    "tags": []
   },
   "outputs": [
    {
     "data": {
      "text/plain": [
       "(109, 216)"
      ]
     },
     "execution_count": 4,
     "metadata": {},
     "output_type": "execute_result"
    }
   ],
   "source": [
    "shape"
   ]
  },
  {
   "cell_type": "code",
   "execution_count": 5,
   "id": "284621fa-b279-4ec6-8f25-f819063400a1",
   "metadata": {
    "tags": []
   },
   "outputs": [],
   "source": [
    "def fwhm2sigma(fwhm):\n",
    "    return fwhm / (2.0 * np.sqrt(2.0 * np.log(2.0)))"
   ]
  },
  {
   "cell_type": "code",
   "execution_count": 6,
   "id": "e8789614-4b2a-44f4-98c5-4adfe8aa4b56",
   "metadata": {
    "tags": []
   },
   "outputs": [],
   "source": [
    "def flux2amp(flux, fwhm):\n",
    "    sigma = fwhm2sigma(fwhm)\n",
    "    return flux / (2 * np.pi * sigma**2)"
   ]
  },
  {
   "cell_type": "code",
   "execution_count": 7,
   "id": "bee0e3cf-96b5-4257-93bf-d72c89c5e3ac",
   "metadata": {
    "tags": []
   },
   "outputs": [],
   "source": [
    "assert flux2amp((2 * np.pi * fwhm2sigma(5) ** 2), 5) == 1"
   ]
  },
  {
   "cell_type": "code",
   "execution_count": 8,
   "id": "3d492f49-3236-4f47-beae-7326425253fe",
   "metadata": {
    "tags": []
   },
   "outputs": [],
   "source": [
    "n_sources = 1\n",
    "flux_sources = np.arange(n_sources) + 10"
   ]
  },
  {
   "cell_type": "code",
   "execution_count": 9,
   "id": "a590ec0b-6028-4033-874b-7f383bb74c04",
   "metadata": {
    "tags": []
   },
   "outputs": [],
   "source": [
    "amplitude_sources = flux2amp(flux_sources, fwhm)"
   ]
  },
  {
   "cell_type": "code",
   "execution_count": 42,
   "id": "a0c43d61-b439-4c28-8be5-05076bc0315f",
   "metadata": {
    "tags": []
   },
   "outputs": [],
   "source": [
    "source_pos = np.array([[np.pi/4], [np.pi/3]])"
   ]
  },
  {
   "cell_type": "code",
   "execution_count": 43,
   "id": "c66c3b78-ad8a-4049-86c5-6c3f0b2aa596",
   "metadata": {
    "tags": []
   },
   "outputs": [],
   "source": [
    "r, p = pointsrcs.expand_beam(fwhm2sigma(fwhm))"
   ]
  },
  {
   "cell_type": "code",
   "execution_count": 44,
   "id": "57f02ead-2d33-4cbb-9262-9755aae395e4",
   "metadata": {},
   "outputs": [],
   "source": [
    "source_map = pointsrcs.sim_objects(shape, wcs, source_pos, amplitude_sources, ((r, p)))"
   ]
  },
  {
   "cell_type": "code",
   "execution_count": 45,
   "id": "8871cee2-0d12-488d-9513-ed9444e59063",
   "metadata": {
    "tags": []
   },
   "outputs": [],
   "source": [
    "import matplotlib.pyplot as plt"
   ]
  },
  {
   "cell_type": "code",
   "execution_count": 46,
   "id": "d3967f9b-87ee-40e0-9d02-300756459462",
   "metadata": {
    "tags": []
   },
   "outputs": [
    {
     "data": {
      "text/plain": [
       "array([[0.78539816],\n",
       "       [1.04719755]])"
      ]
     },
     "execution_count": 46,
     "metadata": {},
     "output_type": "execute_result"
    }
   ],
   "source": [
    "source_pos"
   ]
  },
  {
   "cell_type": "code",
   "execution_count": 47,
   "id": "4957a65f-e376-41d1-b93f-ed4553fb25b0",
   "metadata": {
    "tags": []
   },
   "outputs": [
    {
     "data": {
      "text/plain": [
       "<matplotlib.image.AxesImage at 0x7f81203692d0>"
      ]
     },
     "execution_count": 47,
     "metadata": {},
     "output_type": "execute_result"
    },
    {
     "data": {
      "image/png": "[encoded data removed]",
      "text/plain": [
       "<Figure size 640x480 with 1 Axes>"
      ]
     },
     "metadata": {},
     "output_type": "display_data"
    }
   ],
   "source": [
    "plt.imshow(source_map)"
   ]
  },
  {
   "cell_type": "code",
   "execution_count": 48,
   "id": "52b78304-d1af-43d9-bab6-138d32baa181",
   "metadata": {
    "tags": []
   },
   "outputs": [],
   "source": [
    "def aperture_photometry(\n",
    "    thumbs, aperture_radius, annulus_width=None, modrmap=None, pixsizemap=None\n",
    "):\n",
    "    \"\"\"\n",
    "    Flux from aperture photometry.\n",
    "\n",
    "    from https://github.com/msyriac/orphics/blob/master/orphics/maps.py\n",
    "\n",
    "    Parameters\n",
    "    ----------\n",
    "    thumb : ndmap\n",
    "        An (...,Ny,Nx) ndmap (i.e. a pixell enmap) containing the thumbnails.\n",
    "    aperture_radius : float\n",
    "        Aperture inner radius in radians\n",
    "    annulus_width : float\n",
    "        Annulus width for mean subtraction in radians.\n",
    "        Defaults to sqrt(2)-1 times the aperture inner radius.\n",
    "    modrmap : ndmap, optional\n",
    "        An (Ny,Nx) ndmap containing distances of each pixel from the center in radians.\n",
    "    modrmap : ndmap, optional\n",
    "        An (Ny,Nx) ndmap containing pixel areas in steradians.\n",
    "\n",
    "    Returns\n",
    "    -------\n",
    "    flux : ndarray\n",
    "        (...,) array of aperture photometry fluxes.\n",
    "\n",
    "    \"\"\"\n",
    "    if modrmap is None:\n",
    "        modrmap = thumbs.modrmap()\n",
    "    if annulus_width is None:\n",
    "        annulus_width = (np.sqrt(2.0) - 1.0) * aperture_radius\n",
    "    # Get the mean background level from the annulus\n",
    "    mean = thumbs[\n",
    "        ...,\n",
    "        np.logical_and(\n",
    "            modrmap > aperture_radius, modrmap < (aperture_radius + annulus_width)\n",
    "        ),\n",
    "    ].mean()\n",
    "    if pixsizemap is None:\n",
    "        pixsizemap = thumbs.pixsizemap()\n",
    "    # Subtract the mean, multiply by pixel areas and sum\n",
    "    return (((thumbs - mean) * pixsizemap)[..., modrmap <= aperture_radius]).sum(\n",
    "        axis=-1\n",
    "    )"
   ]
  },
  {
   "cell_type": "code",
   "execution_count": 49,
   "id": "e5c8025a-8dbc-49fe-b2c9-2ba88e3a2110",
   "metadata": {
    "tags": []
   },
   "outputs": [],
   "source": [
    "from astropy import units as u"
   ]
  },
  {
   "cell_type": "code",
   "execution_count": 50,
   "id": "e7939667-c6b9-46ff-a577-068a4aafc5de",
   "metadata": {
    "tags": []
   },
   "outputs": [],
   "source": [
    "box_half_size_rad = 2 * fwhm\n",
    "box_center = [source_pos[0, -1], source_pos[1, -1]]\n",
    "box = np.array(\n",
    "    [\n",
    "        [box_center[0] - box_half_size_rad, box_center[1] - box_half_size_rad],\n",
    "        [box_center[0] + box_half_size_rad, box_center[1] + box_half_size_rad],\n",
    "    ]\n",
    ")  # in radians"
   ]
  },
  {
   "cell_type": "code",
   "execution_count": 51,
   "id": "33152991-7bf1-4aad-bbb8-7ed5591109c5",
   "metadata": {
    "tags": []
   },
   "outputs": [
    {
     "data": {
      "text/plain": [
       "[0.7853981633974483, 1.0471975511965976]"
      ]
     },
     "execution_count": 51,
     "metadata": {},
     "output_type": "execute_result"
    }
   ],
   "source": [
    "box_center"
   ]
  },
  {
   "cell_type": "code",
   "execution_count": 52,
   "id": "e2851ab0-8af5-44e7-9bf0-49d2856ab87d",
   "metadata": {},
   "outputs": [],
   "source": [
    "cutout = source_map.submap(box)"
   ]
  },
  {
   "cell_type": "code",
   "execution_count": 53,
   "id": "55e7302f-2bbd-4afa-b3bf-7bf10ccecd51",
   "metadata": {
    "tags": []
   },
   "outputs": [
    {
     "data": {
      "text/plain": [
       "<matplotlib.image.AxesImage at 0x7f810b46c210>"
      ]
     },
     "execution_count": 53,
     "metadata": {},
     "output_type": "execute_result"
    },
    {
     "data": {
      "image/png": "[encoded data removed]",
      "text/plain": [
       "<Figure size 640x480 with 1 Axes>"
      ]
     },
     "metadata": {},
     "output_type": "display_data"
    }
   ],
   "source": [
    "plt.imshow(cutout)"
   ]
  },
  {
   "cell_type": "code",
   "execution_count": 54,
   "id": "d6bce5a1-1307-4808-a5d1-b2f88890493b",
   "metadata": {
    "tags": []
   },
   "outputs": [
    {
     "data": {
      "text/plain": [
       "9.982631206252375"
      ]
     },
     "execution_count": 54,
     "metadata": {},
     "output_type": "execute_result"
    }
   ],
   "source": [
    "aperture_photometry(cutout, 2 * fwhm)"
   ]
  },
  {
   "cell_type": "code",
   "execution_count": 55,
   "id": "850ce4f8",
   "metadata": {},
   "outputs": [
    {
     "data": {
      "text/plain": [
       "0.02908882086657216"
      ]
     },
     "execution_count": 55,
     "metadata": {},
     "output_type": "execute_result"
    }
   ],
   "source": [
    "fwhm/3"
   ]
  },
  {
   "cell_type": "code",
   "execution_count": 56,
   "id": "ea721fbf-b428-4738-9dd5-11be003120d8",
   "metadata": {},
   "outputs": [],
   "source": [
    "from pixell import reproject\n",
    "\n",
    "source_map_healpix = reproject.map2healpix(source_map)"
   ]
  },
  {
   "cell_type": "code",
   "execution_count": 57,
   "id": "ac0823bc",
   "metadata": {},
   "outputs": [
    {
     "data": {
      "text/plain": [
       "64"
      ]
     },
     "execution_count": 57,
     "metadata": {},
     "output_type": "execute_result"
    }
   ],
   "source": [
    "hp.npix2nside(source_map_healpix.size)"
   ]
  },
  {
   "cell_type": "code",
   "execution_count": 58,
   "id": "cdadf0e8",
   "metadata": {},
   "outputs": [
    {
     "data": {
      "text/plain": [
       "0.015989479811663883"
      ]
     },
     "execution_count": 58,
     "metadata": {},
     "output_type": "execute_result"
    }
   ],
   "source": [
    "hp.nside2resol(_)"
   ]
  },
  {
   "cell_type": "code",
   "execution_count": 59,
   "id": "1094cab4",
   "metadata": {},
   "outputs": [
    {
     "data": {
      "image/png": "[encoded data removed]",
      "text/plain": [
       "<Figure size 850x540 with 2 Axes>"
      ]
     },
     "metadata": {},
     "output_type": "display_data"
    }
   ],
   "source": [
    "hp.mollview(source_map_healpix)"
   ]
  },
  {
   "cell_type": "code",
   "execution_count": 60,
   "id": "5361935b",
   "metadata": {},
   "outputs": [
    {
     "data": {
      "image/png": "[encoded data removed]",
      "text/plain": [
       "<Figure size 580x640 with 2 Axes>"
      ]
     },
     "metadata": {},
     "output_type": "display_data"
    }
   ],
   "source": [
    "\n",
    "hp.gnomview(source_map_healpix, rot=hp.vec2ang(hp.ang2vec(source_pos[0], source_pos[1]), lonlat=True), xsize=1900, reso=.5)"
   ]
  },
  {
   "cell_type": "code",
   "execution_count": 61,
   "id": "cd1554a1",
   "metadata": {},
   "outputs": [
    {
     "data": {
      "text/plain": [
       "9.995092243734167"
      ]
     },
     "execution_count": 61,
     "metadata": {},
     "output_type": "execute_result"
    }
   ],
   "source": [
    "from pysm3.utils import healpix_aperture_photometry\n",
    "\n",
    "healpix_aperture_photometry(source_map_healpix, source_pos[0,0], source_pos[1,0], 2 * fwhm)"
   ]
  },
  {
   "cell_type": "code",
   "execution_count": null,
   "id": "7df1f3b3",
   "metadata": {},
   "outputs": [],
   "source": []
  }
 ],
 "metadata": {
  "kernelspec": {
   "display_name": "Python 3",
   "language": "python",
   "name": "python3"
  },
  "language_info": {
   "codemirror_mode": {
    "name": "ipython",
    "version": 3
   },
   "file_extension": ".py",
   "mimetype": "text/x-python",
   "name": "python",
   "nbconvert_exporter": "python",
   "pygments_lexer": "ipython3",
   "version": "3.11.0"
  }
 },
 "nbformat": 4,
 "nbformat_minor": 5
}
